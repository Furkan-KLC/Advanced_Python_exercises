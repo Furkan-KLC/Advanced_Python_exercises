{
 "cells": [
  {
   "cell_type": "code",
   "execution_count": null,
   "id": "da98882e",
   "metadata": {},
   "outputs": [],
   "source": [
    "import socket "
   ]
  },
  {
   "cell_type": "markdown",
   "id": "b7774f05",
   "metadata": {},
   "source": [
    "IP Adresi: Hangi bilgisayara bağlanılacağını belirler.\n",
    "\n",
    "Port Numarası: Hangi uygulamaya/veri kanalına bağlanılacağını belirler. (0–65535 arası)\n",
    "\n",
    "TCP vs UDP:\n",
    "\n",
    "TCP (SOCK_STREAM): Bağlantı tabanlı, güvenilir, veri sırası korunur. (Örn: HTTP, FTP)\n",
    "\n",
    "UDP (SOCK_DGRAM): Bağlantısız, hızlı, ancak veri kaybı olabilir. (Örn: DNS, canlı yayın)"
   ]
  },
  {
   "cell_type": "markdown",
   "id": "a8a49a24",
   "metadata": {},
   "source": [
    "TCP sunucu istemci Mantığı:\n",
    "Sunucu Tarafı:\n",
    "\n",
    ".socket(family=AF_INET, type=SOCK_STREAM) ---socket oluşturur \n",
    "\n",
    ".bind((ip,port))---ip ve port'a bağla \n",
    "\n",
    ".connect((ip,port))---- sunucuya bağlan \n",
    "\n",
    ".listen(backlog)--- gelen bağlantıları dinle \n",
    "\n",
    ".accept()--- bir istemci bağlandığında kabul et\n",
    "\n",
    ".recv()/send() ---- veri gönder al\n",
    "\n",
    ".close() ---bağlantıyı kapat \n",
    "\n"
   ]
  },
  {
   "cell_type": "code",
   "execution_count": null,
   "id": "53c92382",
   "metadata": {},
   "outputs": [],
   "source": [
    "host=\"127.0.0.1\"\n",
    "port=5000\n",
    "\n",
    "server_socket=socket.socket(socket.AF_INET,socket.SOCK_STREAM)\n",
    "server_socket.bind((host,port))\n",
    "server_socket.listen(5) \n",
    "print(f\"Sunucu dinleniyor: {host}:{port}\")\n",
    "\n",
    "while True:\n",
    "    conn, addr = server_socket.accept()\n",
    "    print(f\"Bağlanti geldi:{addr}\")\n",
    "    \n",
    "    data = conn.recv(1024)  # 1024 byte oku\n",
    "    if not data:\n",
    "        break\n",
    "    print(\"Gelen:\", data.decode())\n",
    "    \n",
    "    conn.send(\"Mesaj alindi\".encode())\n",
    "    conn.close()"
   ]
  },
  {
   "cell_type": "code",
   "execution_count": null,
   "id": "b81d7b0b",
   "metadata": {},
   "outputs": [],
   "source": [
    "host = \"127.0.0.1\"\n",
    "port = 5000\n",
    "\n",
    "client_socket = socket.socket(socket.AF_INET, socket.SOCK_STREAM)\n",
    "client_socket.connect((host, port))\n",
    "\n",
    "message=input(\"enter your message\")\n",
    "client_socket.send(message.encode())\n",
    "\n",
    "data = client_socket.recv(1024)\n",
    "print(\"Sunucudan gelen:\", data.decode())\n",
    "\n",
    "client_socket.close()\n"
   ]
  },
  {
   "cell_type": "markdown",
   "id": "a1716754",
   "metadata": {},
   "source": []
  }
 ],
 "metadata": {
  "kernelspec": {
   "display_name": "Python 3",
   "language": "python",
   "name": "python3"
  },
  "language_info": {
   "codemirror_mode": {
    "name": "ipython",
    "version": 3
   },
   "file_extension": ".py",
   "mimetype": "text/x-python",
   "name": "python",
   "nbconvert_exporter": "python",
   "pygments_lexer": "ipython3",
   "version": "3.11.9"
  }
 },
 "nbformat": 4,
 "nbformat_minor": 5
}

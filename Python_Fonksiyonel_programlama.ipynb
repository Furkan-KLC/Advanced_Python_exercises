{
 "cells": [
  {
   "cell_type": "code",
   "execution_count": 1,
   "id": "1eeaddd1",
   "metadata": {},
   "outputs": [],
   "source": [
    "import numpy as np \n"
   ]
  },
  {
   "cell_type": "markdown",
   "id": "c7692bf3",
   "metadata": {},
   "source": [
    "\"this notebook created for advanced python topics \""
   ]
  },
  {
   "cell_type": "markdown",
   "id": "b651da71",
   "metadata": {},
   "source": [
    "1- İleri Fonksiyonel Programlama\n",
    "\n",
    "list comphrension ve Lambda ifadeleri, map, filter, reduce\n",
    "\n",
    "Fonksiyonların ilk sınıf nesne olması (first-class functions)\n",
    "\n",
    "Decorator’lar (with/without parameters)\n",
    "\n",
    "Closures & Lexical Scope\n",
    "\n",
    "Partial functions (functools.partial)\n",
    "\n",
    "Higher-order functions\n"
   ]
  },
  {
   "cell_type": "markdown",
   "id": "f5135fb5",
   "metadata": {},
   "source": [
    "list comphrension ve Lambda ifadeleri, map, filter, reduce :\n"
   ]
  },
  {
   "cell_type": "code",
   "execution_count": 5,
   "id": "9806165c",
   "metadata": {},
   "outputs": [
    {
     "data": {
      "text/plain": [
       "[0, 1, 2, 3, 4, 5, 6, 7, 8, 9, 10, 11, 12, 13]"
      ]
     },
     "execution_count": 5,
     "metadata": {},
     "output_type": "execute_result"
    }
   ],
   "source": [
    "liste=[x  for x in range(0,14)]\n",
    "liste"
   ]
  },
  {
   "cell_type": "code",
   "execution_count": 7,
   "id": "f70abc6c",
   "metadata": {},
   "outputs": [
    {
     "data": {
      "text/plain": [
       "[0, 3, 6, 9, 12, 15, 18, 21]"
      ]
     },
     "execution_count": 7,
     "metadata": {},
     "output_type": "execute_result"
    }
   ],
   "source": [
    "liste_iki=[a  for a in range(0,24) if a%3==0]\n",
    "liste_iki"
   ]
  },
  {
   "cell_type": "code",
   "execution_count": null,
   "id": "0a4098c4",
   "metadata": {},
   "outputs": [
    {
     "data": {
      "text/plain": [
       "64"
      ]
     },
     "execution_count": 8,
     "metadata": {},
     "output_type": "execute_result"
    }
   ],
   "source": [
    "qube=lambda x:x**3              #lambda ile kısa fonksiyonları tek satırda yazdık\n",
    "qube(4)"
   ]
  },
  {
   "cell_type": "code",
   "execution_count": null,
   "id": "7a809db5",
   "metadata": {},
   "outputs": [
    {
     "data": {
      "text/plain": [
       "[0, 27, 216, 729, 1728, 3375, 5832, 9261]"
      ]
     },
     "execution_count": 11,
     "metadata": {},
     "output_type": "execute_result"
    }
   ],
   "source": [
    "cubed=list(map(qube,liste_iki))  #map ile bir fonksiyonu verilen veriye uyguladık\n",
    "cubed"
   ]
  },
  {
   "cell_type": "code",
   "execution_count": null,
   "id": "585c6df6",
   "metadata": {},
   "outputs": [
    {
     "data": {
      "text/plain": [
       "[0, 216, 1728, 5832]"
      ]
     },
     "execution_count": 15,
     "metadata": {},
     "output_type": "execute_result"
    }
   ],
   "source": [
    "is_even=lambda x:x%2==0\n",
    "even_cubed=list(filter(is_even,cubed))  #filter da map gibi ancak sadece doğru sonucları verir\n",
    "even_cubed"
   ]
  },
  {
   "cell_type": "code",
   "execution_count": 18,
   "id": "c437e16a",
   "metadata": {},
   "outputs": [
    {
     "data": {
      "text/plain": [
       "120"
      ]
     },
     "execution_count": 18,
     "metadata": {},
     "output_type": "execute_result"
    }
   ],
   "source": [
    "from functools import reduce  #reduce(fonksiyon, iterable, [başlangıç_değeri])\n",
    "carp=lambda x,y:x*y \n",
    "faktoriyel=reduce(carp,range(1,6))\n",
    "faktoriyel"
   ]
  },
  {
   "cell_type": "markdown",
   "id": "fcbaddca",
   "metadata": {},
   "source": [
    "FIRST CLASS FUNCTIONS:\n",
    "\n",
    "Python’da first-class functions (birinci sınıf fonksiyonlar), fonksiyonların tıpkı değişkenler gibi kullanılabilmesini ifade eder. Yani fonksiyonlar:\n",
    "\n",
    "Bir değişkene atanabilir,\n",
    "\n",
    "Başka bir fonksiyona argüman olarak verilebilir,\n",
    "\n",
    "Bir fonksiyondan geri döndürülebilir.\n"
   ]
  },
  {
   "cell_type": "code",
   "execution_count": null,
   "id": "1f71edec",
   "metadata": {},
   "outputs": [
    {
     "data": {
      "text/plain": [
       "'naber Timur '"
      ]
     },
     "execution_count": 19,
     "metadata": {},
     "output_type": "execute_result"
    }
   ],
   "source": [
    "def selam_ver(isim):                  #fonksiiyonu bir değişkene atadık ve o değişken fonksiyonun return ettiği \n",
    "    return f\"naber {isim} \"           #sonucu içinde tutuyor\n",
    "selam_mesaji=selam_ver(\"Timur\")\n",
    "selam_mesaji"
   ]
  },
  {
   "cell_type": "code",
   "execution_count": null,
   "id": "ebe6a5dd",
   "metadata": {},
   "outputs": [
    {
     "data": {
      "text/plain": [
       "20"
      ]
     },
     "execution_count": 20,
     "metadata": {},
     "output_type": "execute_result"
    }
   ],
   "source": [
    "def uygula(islem,veri):            \n",
    "    return islem(veri)      #fonksiyonu argüman olarak başka bir fonksiyona verdik\n",
    "\n",
    "func=lambda x:x+5\n",
    "uygula(func,15)\n"
   ]
  },
  {
   "cell_type": "code",
   "execution_count": null,
   "id": "499414b2",
   "metadata": {},
   "outputs": [
    {
     "data": {
      "text/plain": [
       "[0, 7, 14, 21, 28, 35, 42, 49]"
      ]
     },
     "execution_count": 32,
     "metadata": {},
     "output_type": "execute_result"
    }
   ],
   "source": [
    "def  sayinin_bölenleri(bölen):\n",
    "    def böl(bölünecek):\n",
    "        return list(range(0,bölünecek,bölen))   #hatırlatma range liste döndürmez bu yüzden list() methodu kullanilmali\n",
    "    return böl \n",
    "\n",
    "sayidaki_üc_katlari=sayinin_bölenleri(3)       #closure yapısı olarak geçer ve farklı parametrelerle calisan dinamik\n",
    "sayidaki_üc_katlari(40)                        #fonksiyonlar üretmemizi sağlar daha modüler bir tasarım.\n",
    "\n",
    "sayidaki_yedi_katlari=sayinin_bölenleri(7)     \n",
    "sayidaki_yedi_katlari(50)"
   ]
  },
  {
   "cell_type": "markdown",
   "id": "0b9733b7",
   "metadata": {},
   "source": [
    "Lexical Scope (Leksik Kapsam) Nedir?\n",
    "\n",
    "Lexical scope, bir değişkenin hangi kod bloklarında erişilebilir olduğunu belirleyen kurallardır"
   ]
  },
  {
   "cell_type": "code",
   "execution_count": 33,
   "id": "372c2456",
   "metadata": {},
   "outputs": [
    {
     "name": "stdout",
     "output_type": "stream",
     "text": [
      "x: 10\n",
      "y: 5\n",
      "x: 10\n"
     ]
    }
   ],
   "source": [
    "x = 10  # global scope\n",
    "\n",
    "def fonksiyon():\n",
    "    y = 5  # local scope\n",
    "    print(\"x:\", x)  # x globalde tanımlı, erişilebilir\n",
    "    print(\"y:\", y)  # y fonksiyon içinde tanımlı, erişilebilir\n",
    "\n",
    "fonksiyon()\n",
    "print(\"x:\", x)  # x globalde tanımlı, erişilebilir\n",
    "# print(\"y:\", y)  # HATA! y sadece fonksiyon içinde erişilebilir"
   ]
  },
  {
   "cell_type": "markdown",
   "id": "7ffb9669",
   "metadata": {},
   "source": [
    "Bir iç fonksiyon dış fonksiyondaki değişkenlere erişebilir:"
   ]
  },
  {
   "cell_type": "code",
   "execution_count": 34,
   "id": "ab9ba5bc",
   "metadata": {},
   "outputs": [
    {
     "name": "stdout",
     "output_type": "stream",
     "text": [
      "Merhaba\n"
     ]
    }
   ],
   "source": [
    "def dis_fonksiyon():\n",
    "    mesaj = \"Merhaba\"\n",
    "    def ic_fonksiyon():\n",
    "        print(mesaj)  # dış fonksiyondaki değişkene erişim (lexical scope)\n",
    "    ic_fonksiyon()\n",
    "\n",
    "dis_fonksiyon()  # Çıktı: Merhaba"
   ]
  },
  {
   "cell_type": "code",
   "execution_count": null,
   "id": "15cc7370",
   "metadata": {},
   "outputs": [
    {
     "name": "stdout",
     "output_type": "stream",
     "text": [
      "merhaba\n",
      "merhaba\n",
      "merhaba\n",
      "merhaba\n",
      "merhaba\n"
     ]
    }
   ],
   "source": [
    "def tekrarlatici(tekrar_sayisi):\n",
    "    def decorator(fonk):\n",
    "        def wrapper(*args,**kwargs):\n",
    "            for a in range(tekrar_sayisi):\n",
    "                fonk(*args,**kwargs)\n",
    "        return wrapper\n",
    "    return decorator\n",
    "\n",
    "@tekrarlatici(5)\n",
    "def merhaba():\n",
    "    print(\"merhaba\")\n",
    "\n",
    "merhaba()\n"
   ]
  },
  {
   "cell_type": "code",
   "execution_count": 43,
   "id": "e0ab2cc5",
   "metadata": {},
   "outputs": [
    {
     "name": "stdout",
     "output_type": "stream",
     "text": [
      "warpper calisti sirada ana fonksiyon var\n",
      "merhaba ben ana fonskiyon\n",
      "ana fonksiyon calisti decorator isini yapti\n"
     ]
    }
   ],
   "source": [
    "def karsilama_dect(ana_fonks):\n",
    "    def wrapper():\n",
    "        print(\"warpper calisti sirada ana fonksiyon var\")\n",
    "        ana_fonks()\n",
    "        print(\"ana fonksiyon calisti decorator isini yapti\")\n",
    "    return wrapper\n",
    "\n",
    "@karsilama_dect                          #aslinda neler_oluyor=karsilama_dect(neler_oluyor)\n",
    "def neler_oluyor():\n",
    "    print(\"merhaba ben ana fonskiyon\")\n",
    "\n",
    "\n",
    "neler_oluyor()"
   ]
  },
  {
   "cell_type": "code",
   "execution_count": 1,
   "id": "6bae9cbc",
   "metadata": {},
   "outputs": [
    {
     "name": "stdout",
     "output_type": "stream",
     "text": [
      "10\n",
      "14\n"
     ]
    }
   ],
   "source": [
    "from functools import partial\n",
    "\n",
    "def carp(a, b):\n",
    "    return a * b\n",
    "\n",
    "# 2 ile çarpan fonksiyon oluştur\n",
    "ikiyle_carp = partial(carp, 2)\n",
    "\n",
    "print(ikiyle_carp(5))   # 10\n",
    "print(ikiyle_carp(7))   # 14"
   ]
  },
  {
   "cell_type": "code",
   "execution_count": null,
   "id": "7bd1e991",
   "metadata": {},
   "outputs": [],
   "source": []
  },
  {
   "cell_type": "code",
   "execution_count": null,
   "id": "ba737d56",
   "metadata": {},
   "outputs": [],
   "source": []
  },
  {
   "cell_type": "code",
   "execution_count": null,
   "id": "512436f6",
   "metadata": {},
   "outputs": [],
   "source": []
  }
 ],
 "metadata": {
  "kernelspec": {
   "display_name": "Python 3",
   "language": "python",
   "name": "python3"
  },
  "language_info": {
   "codemirror_mode": {
    "name": "ipython",
    "version": 3
   },
   "file_extension": ".py",
   "mimetype": "text/x-python",
   "name": "python",
   "nbconvert_exporter": "python",
   "pygments_lexer": "ipython3",
   "version": "3.11.9"
  }
 },
 "nbformat": 4,
 "nbformat_minor": 5
}

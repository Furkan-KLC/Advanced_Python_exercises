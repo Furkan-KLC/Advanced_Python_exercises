{
 "cells": [
  {
   "cell_type": "markdown",
   "id": "a4970ff4",
   "metadata": {},
   "source": [
    "İleri Nesne Yönelimli Programlama (OOP)\n",
    "@classmethod, @staticmethod, @property\n",
    "\n",
    "super()\n",
    "\n",
    "Mixins & multiple inheritance\n",
    "\n",
    "Metaclass kullanımı (type, __new__, __init_subclass__)\n",
    "\n",
    "Abstract Base Classes (abc modülü)"
   ]
  },
  {
   "cell_type": "code",
   "execution_count": 4,
   "id": "5ca2544c",
   "metadata": {},
   "outputs": [
    {
     "name": "stdout",
     "output_type": "stream",
     "text": [
      "Karabas ses çikariyor.\n",
      "Karabas havliyor.\n"
     ]
    }
   ],
   "source": [
    "class Animal:\n",
    "    def __init__(self, name):\n",
    "        self.name = name\n",
    "\n",
    "    def speak(self):\n",
    "        print(f\"{self.name} ses çikariyor.\")\n",
    "\n",
    "class Dog(Animal):\n",
    "    def __init__(self, name, breed):\n",
    "        super().__init__(name)    # Animal.__init__ called\n",
    "        self.breed = breed\n",
    "\n",
    "    def speak(self):\n",
    "        super().speak()                 # first Animal.speak() not necessary \n",
    "        print(f\"{self.name} havliyor.\")  # extra code we want \n",
    "\n",
    "dog = Dog(\"Karabas\", \"Kangal\")\n",
    "dog.speak()"
   ]
  },
  {
   "cell_type": "markdown",
   "id": "fee011b1",
   "metadata": {},
   "source": [
    "ABSTRACT BASE CLASS----> "
   ]
  },
  {
   "cell_type": "code",
   "execution_count": 1,
   "id": "9e020167",
   "metadata": {},
   "outputs": [],
   "source": [
    "class shapes():\n",
    "    def __init__(self,name,area,circumfrence): #if we want to make this base class appropriate to abstract base class\n",
    "        self.name=name                         #term we must do getter methods defined inherited classes.\n",
    "        self.__area=area                       #and from abc module getter methods decorated with @abstractmethod\n",
    "        self.__circumfrence=circumfrence\n",
    "    def set_name(self,name):\n",
    "        self.name=name\n",
    "    def set_area(self,area):\n",
    "        self.__area=area\n",
    "    def set_circumfrence(self,circumf):\n",
    "        self.__circumfrence=circumf\n",
    "    def get_name(self):\n",
    "        return self.name\n",
    "    def get_area(self):\n",
    "        return self.__area\n",
    "    def get_circumfrence(self):\n",
    "        return self.__circumfrence "
   ]
  },
  {
   "cell_type": "code",
   "execution_count": 2,
   "id": "d51cc891",
   "metadata": {},
   "outputs": [],
   "source": [
    "from abc import ABC, abstractmethod\n",
    "\n",
    "class Shape(ABC):\n",
    "    def __init__(self, name):\n",
    "        self._name = name           # tek alt çizgi: protected\n",
    "\n",
    "    def set_name(self, name):\n",
    "        self._name = name\n",
    "\n",
    "    def get_name(self):\n",
    "        return self._name\n",
    "\n",
    "    @abstractmethod\n",
    "    def get_area(self):\n",
    "        \"\"\"Alan hesaplama metodu (alt sinifta tanimlanmali)\"\"\"\n",
    "        pass\n",
    "\n",
    "    @abstractmethod\n",
    "    def get_circumference(self):\n",
    "        \"\"\"Çevre hesaplama metodu (alt sinifta tanimlanmali)\"\"\"\n",
    "        pass"
   ]
  },
  {
   "cell_type": "markdown",
   "id": "522fe3de",
   "metadata": {},
   "source": [
    "Mixins & Multiple Inheritance"
   ]
  },
  {
   "cell_type": "code",
   "execution_count": 9,
   "id": "4b0337d0",
   "metadata": {},
   "outputs": [
    {
     "name": "stdout",
     "output_type": "stream",
     "text": [
      "A sınıfı\n",
      "B sınıfı\n",
      "in multiple inheritance python checks classes with method resolution order MRO: [<class '__main__.C'>, <class '__main__.A'>, <class '__main__.B'>, <class 'object'>]\n"
     ]
    }
   ],
   "source": [
    "class A:                                       #ın python multiple inheritance is possible \n",
    "    def method_a(self):            \n",
    "        print(\"A sınıfı\")\n",
    "\n",
    "class B:\n",
    "    def method_b(self):\n",
    "        print(\"B sınıfı\")\n",
    "\n",
    "class C(A, B):\n",
    "    pass\n",
    "\n",
    "c = C()\n",
    "c.method_a()  # A sınıfı\n",
    "c.method_b()  # B sınıfı\n",
    "\n",
    "print(\"in multiple inheritance python checks classes with method resolution order MRO:\",C.mro())"
   ]
  },
  {
   "cell_type": "code",
   "execution_count": null,
   "id": "afcec162",
   "metadata": {},
   "outputs": [
    {
     "name": "stdout",
     "output_type": "stream",
     "text": [
      "{\"name\": \"Ahmet\", \"age\": 30}\n"
     ]
    }
   ],
   "source": [
    "class JsonMixin:                              #mixins class are used for adding a property to another classes \n",
    "    def to_json(self):                        #mixins classes are usually named with somethingmixin\n",
    "        import json\n",
    "        return json.dumps(self.__dict__)\n",
    "\n",
    "class Person(JsonMixin):\n",
    "    def __init__(self, name, age):\n",
    "        self.name = name\n",
    "        self.age = age\n",
    "\n",
    "p = Person(\"Ahmet\", 30)\n",
    "print(p.to_json())  # {\"name\": \"Ahmet\", \"age\": 30}"
   ]
  },
  {
   "cell_type": "markdown",
   "id": "7f92ebe3",
   "metadata": {},
   "source": [
    " @classmethod, @staticmethod ve @property"
   ]
  },
  {
   "cell_type": "code",
   "execution_count": 11,
   "id": "97899590",
   "metadata": {},
   "outputs": [
    {
     "name": "stdout",
     "output_type": "stream",
     "text": [
      "@classmethod used for class level read and change variables ,first parameter of method must be cls \n"
     ]
    }
   ],
   "source": [
    "print(\"@classmethod used for class level read and change variables ,first parameter of method must be cls \")\n"
   ]
  },
  {
   "cell_type": "code",
   "execution_count": null,
   "id": "0387d33b",
   "metadata": {},
   "outputs": [
    {
     "name": "stdout",
     "output_type": "stream",
     "text": [
      "0\n",
      "1\n"
     ]
    }
   ],
   "source": [
    "class Person:                              #we use @classmethod when method has to belong to class, not a object\n",
    "    population = 0                         #we can call it without creating object \n",
    "\n",
    "    def __init__(self, name):\n",
    "        self.name = name\n",
    "        Person.population += 1\n",
    "\n",
    "    @classmethod\n",
    "    def get_population(cls):\n",
    "        return cls.population  # cls → çağırılan sınıf               #when @classmethod called it will reference correct classs  \n",
    "\n",
    "# Alt sınıf\n",
    "class Student(Person):\n",
    "    population = 0  # öğrenci sayısı ayrı tutulacak               \n",
    "\n",
    "    def __init__(self, name):\n",
    "        super().__init__(name)\n",
    "        Student.population += 1\n",
    "\n",
    "# Kullanım\n",
    "p1 = Person(\"Ali\")\n",
    "p2 = Person(\"Ayşe\")\n",
    "s1 = Student(\"Ahmet\")\n",
    "s2 = Student(\"Mehmet\")\n",
    "\n",
    "print(Person.get_population())   # 2\n",
    "print(Student.get_population())  # 2"
   ]
  },
  {
   "cell_type": "markdown",
   "id": "2cc96072",
   "metadata": {},
   "source": [
    "@static"
   ]
  },
  {
   "cell_type": "code",
   "execution_count": 13,
   "id": "95f6f733",
   "metadata": {},
   "outputs": [],
   "source": [
    "class MathTools:         #staticmethods doesnt take self or cls \n",
    "    @staticmethod        #connected to class but does not change values \n",
    "    def add(a, b):\n",
    "        return a + b"
   ]
  },
  {
   "cell_type": "markdown",
   "id": "86529e13",
   "metadata": {},
   "source": [
    "@property"
   ]
  },
  {
   "cell_type": "code",
   "execution_count": null,
   "id": "46016925",
   "metadata": {},
   "outputs": [],
   "source": [
    "class Circle:\n",
    "    def __init__(self, radius):\n",
    "        self._radius = radius\n",
    " \n",
    "    @property                               #it provide us to use methods like property \n",
    "    def area(self):                         #generally used for getter and setter \n",
    "        return 3.14 * self._radius ** 2"
   ]
  },
  {
   "cell_type": "markdown",
   "id": "553ac1ab",
   "metadata": {},
   "source": [
    "META CLASS \n",
    " class MyClass:\n",
    "    pass\n",
    "MyClass = type('MyClass', (), {})\n",
    "\n",
    "ON BACKGROUND IT WORKS LIKE \n",
    "type(name, bases, dict)\n",
    "\n",
    "name → sınıfın adı\n",
    "\n",
    "bases → miras alınan sınıflar (tuple)\n",
    "\n",
    "dict → sınıfın metotları ve attribute’ları\n",
    "\n",
    "__new__ → sınıf oluşturulmadan önce çalışır\n",
    "\n",
    "__init__ → sınıf oluşturulduktan sonra çalışır"
   ]
  },
  {
   "cell_type": "code",
   "execution_count": null,
   "id": "fb1a0576",
   "metadata": {},
   "outputs": [
    {
     "name": "stdout",
     "output_type": "stream",
     "text": [
      "error occured as expected because process class doesnot have process method\n"
     ]
    },
    {
     "ename": "TypeError",
     "evalue": "BadClass sınıfı 'process' metodunu tanımlamalı!",
     "output_type": "error",
     "traceback": [
      "\u001b[1;31m---------------------------------------------------------------------------\u001b[0m",
      "\u001b[1;31mTypeError\u001b[0m                                 Traceback (most recent call last)",
      "Cell \u001b[1;32mIn[22], line 17\u001b[0m\n\u001b[0;32m     14\u001b[0m         \u001b[38;5;28mprint\u001b[39m(\u001b[38;5;124m\"\u001b[39m\u001b[38;5;124mişlem yapıldı\u001b[39m\u001b[38;5;124m\"\u001b[39m)\n\u001b[0;32m     15\u001b[0m \u001b[38;5;28;01mtry\u001b[39;00m:   \n\u001b[0;32m     16\u001b[0m \u001b[38;5;66;03m# Bu hata verir\u001b[39;00m\n\u001b[1;32m---> 17\u001b[0m \u001b[43m    \u001b[49m\u001b[38;5;28;43;01mclass\u001b[39;49;00m\u001b[43m \u001b[49m\u001b[38;5;21;43;01mBadClass\u001b[39;49;00m\u001b[43m(\u001b[49m\u001b[43mBase\u001b[49m\u001b[43m)\u001b[49m\u001b[43m:\u001b[49m\n\u001b[0;32m     18\u001b[0m \u001b[43m        \u001b[49m\u001b[38;5;28;43;01mpass\u001b[39;49;00m\n\u001b[0;32m     19\u001b[0m \u001b[38;5;28;01mfinally\u001b[39;00m:\n",
      "Cell \u001b[1;32mIn[22], line 4\u001b[0m, in \u001b[0;36mInterfaceMeta.__new__\u001b[1;34m(cls, name, bases, dct)\u001b[0m\n\u001b[0;32m      2\u001b[0m \u001b[38;5;28;01mdef\u001b[39;00m \u001b[38;5;21m__new__\u001b[39m(\u001b[38;5;28mcls\u001b[39m, name, bases, dct):\n\u001b[0;32m      3\u001b[0m     \u001b[38;5;28;01mif\u001b[39;00m \u001b[38;5;124m\"\u001b[39m\u001b[38;5;124mprocess\u001b[39m\u001b[38;5;124m\"\u001b[39m \u001b[38;5;129;01mnot\u001b[39;00m \u001b[38;5;129;01min\u001b[39;00m dct:\n\u001b[1;32m----> 4\u001b[0m         \u001b[38;5;28;01mraise\u001b[39;00m \u001b[38;5;167;01mTypeError\u001b[39;00m(\u001b[38;5;124mf\u001b[39m\u001b[38;5;124m\"\u001b[39m\u001b[38;5;132;01m{\u001b[39;00mname\u001b[38;5;132;01m}\u001b[39;00m\u001b[38;5;124m sınıfı \u001b[39m\u001b[38;5;124m'\u001b[39m\u001b[38;5;124mprocess\u001b[39m\u001b[38;5;124m'\u001b[39m\u001b[38;5;124m metodunu tanımlamalı!\u001b[39m\u001b[38;5;124m\"\u001b[39m)\n\u001b[0;32m      5\u001b[0m     \u001b[38;5;28;01mreturn\u001b[39;00m \u001b[38;5;28msuper\u001b[39m()\u001b[38;5;241m.\u001b[39m\u001b[38;5;21m__new__\u001b[39m(\u001b[38;5;28mcls\u001b[39m, name, bases, dct)\n",
      "\u001b[1;31mTypeError\u001b[0m: BadClass sınıfı 'process' metodunu tanımlamalı!"
     ]
    }
   ],
   "source": [
    "class InterfaceMeta(type):\n",
    "    def __new__(cls, name, bases, dct):\n",
    "        if \"process\" not in dct:\n",
    "            raise TypeError(f\"{name} sinifi 'process' metodunu tanımlamalı!\")\n",
    "        return super().__new__(cls, name, bases, dct)\n",
    "\n",
    "class Base(metaclass=InterfaceMeta):\n",
    "    def process(self):\n",
    "        pass\n",
    "\n",
    "# Bu çalışır\n",
    "class GoodClass(Base):\n",
    "    def process(self):\n",
    "        print(\"işlem yapildi\")\n",
    "try:   \n",
    "# Bu hata verir\n",
    "    class BadClass(Base):\n",
    "        pass\n",
    "finally:\n",
    "    print(\"error occured as expected, because process class doesnot have process method\")  "
   ]
  },
  {
   "cell_type": "code",
   "execution_count": null,
   "id": "80d039c2",
   "metadata": {},
   "outputs": [],
   "source": []
  }
 ],
 "metadata": {
  "kernelspec": {
   "display_name": "Python 3",
   "language": "python",
   "name": "python3"
  },
  "language_info": {
   "codemirror_mode": {
    "name": "ipython",
    "version": 3
   },
   "file_extension": ".py",
   "mimetype": "text/x-python",
   "name": "python",
   "nbconvert_exporter": "python",
   "pygments_lexer": "ipython3",
   "version": "3.11.9"
  }
 },
 "nbformat": 4,
 "nbformat_minor": 5
}

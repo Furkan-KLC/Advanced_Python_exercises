{
 "cells": [
  {
   "cell_type": "markdown",
   "id": "a4970ff4",
   "metadata": {},
   "source": [
    "İleri Nesne Yönelimli Programlama (OOP)\n",
    "@classmethod, @staticmethod, @property\n",
    "\n",
    "super()\n",
    "\n",
    "Mixins & multiple inheritance\n",
    "\n",
    "Metaclass kullanımı (type, __new__, __init_subclass__)\n",
    "\n",
    "Abstract Base Classes (abc modülü)"
   ]
  },
  {
   "cell_type": "code",
   "execution_count": null,
   "id": "9e020167",
   "metadata": {},
   "outputs": [],
   "source": []
  },
  {
   "cell_type": "code",
   "execution_count": null,
   "id": "d51cc891",
   "metadata": {},
   "outputs": [],
   "source": []
  }
 ],
 "metadata": {
  "language_info": {
   "name": "python"
  }
 },
 "nbformat": 4,
 "nbformat_minor": 5
}

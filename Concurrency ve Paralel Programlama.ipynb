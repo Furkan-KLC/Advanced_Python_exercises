{
 "cells": [
  {
   "cell_type": "markdown",
   "id": "d48abe18",
   "metadata": {},
   "source": [
    "Concurrency ve Paralel Programlama"
   ]
  },
  {
   "cell_type": "markdown",
   "id": "21762cc1",
   "metadata": {},
   "source": [
    "THREADING:\n",
    "Hafif, aynı süreç içinde hafıza paylaşımı (shared memory).\n",
    "\n",
    "GIL nedeniyle CPU-bound işleri hızlandırmaz ama I/O-bound \n",
    "(ağ, disk, bekleme) işleri için uygundur.\n",
    "\n",
    "\n"
   ]
  },
  {
   "cell_type": "code",
   "execution_count": 2,
   "id": "aa7ca993",
   "metadata": {},
   "outputs": [
    {
     "name": "stdout",
     "output_type": "stream",
     "text": [
      "taking cubes and squares\n",
      "1\n",
      "8\n",
      "27\n",
      "64\n",
      "125\n",
      "216\n",
      "343\n",
      "512\n",
      "729\n",
      "1\n",
      "4\n",
      "9\n",
      "16\n",
      "25\n",
      "36\n",
      "49\n",
      "64\n",
      "81\n",
      "time for both process: 3.6116414070129395\n"
     ]
    }
   ],
   "source": [
    "import threading\n",
    "import time\n",
    "def take_cube(n):\n",
    "    for i in n:\n",
    "        print(i**3)\n",
    "        time.sleep(0.20)\n",
    "\n",
    "def take_square(n):\n",
    "    for i in n:\n",
    "        print(i**2)\n",
    "        time.sleep(0.20)\n",
    "nums=[1,2,3,4,5,6,7,8,9]\n",
    "\n",
    "print(\"taking cubes and squares\")\n",
    "start=time.time()\n",
    "take_cube(nums)\n",
    "take_square(nums)\n",
    "end=time.time()\n",
    "print(\"time for both process:\",float(end-start))\n",
    "\n"
   ]
  },
  {
   "cell_type": "markdown",
   "id": "428a906d",
   "metadata": {},
   "source": [
    "WITH THREADING"
   ]
  },
  {
   "cell_type": "code",
   "execution_count": null,
   "id": "6b9970b5",
   "metadata": {},
   "outputs": [
    {
     "name": "stdout",
     "output_type": "stream",
     "text": [
      "1\n",
      "1\n",
      "time for both process: 0.015722990036010742\n"
     ]
    },
    {
     "name": "stdout",
     "output_type": "stream",
     "text": [
      "8\n",
      "4\n",
      "27\n",
      "9\n",
      "64\n",
      "16\n",
      "125\n",
      "25\n",
      "216\n",
      "36\n",
      "343\n",
      "49\n",
      "64\n",
      "512\n",
      "81\n",
      "729\n"
     ]
    }
   ],
   "source": [
    "thread_one=threading.Thread(target=take_cube,args=(nums,))\n",
    "thread_two=threading.Thread(target=take_square,args=(nums,))\n",
    "\n",
    "start=time.time()\n",
    "thread_one.start()\n",
    "thread_two.start()\n",
    "end=time.time()                          #threadler devam ederken program calismaya devam etti bu yüzden arada bir yerde printledi\n",
    "                                                          \n",
    "print(\"time for both process:\",float(end-start))"
   ]
  },
  {
   "cell_type": "code",
   "execution_count": 4,
   "id": "0f7dc8e0",
   "metadata": {},
   "outputs": [
    {
     "name": "stdout",
     "output_type": "stream",
     "text": [
      "1\n",
      "1\n",
      "8\n",
      "4\n",
      "9\n",
      "27\n",
      "16\n",
      "64\n",
      "25\n",
      "125\n",
      "36216\n",
      "\n",
      "49\n",
      "343\n",
      "512\n",
      "64\n",
      "729\n",
      "81\n",
      "time for both process: 1.8251495361328125\n"
     ]
    }
   ],
   "source": [
    "thread_one=threading.Thread(target=take_cube,args=(nums,))\n",
    "thread_two=threading.Thread(target=take_square,args=(nums,))\n",
    "\n",
    "start=time.time()\n",
    "thread_one.start()\n",
    "thread_two.start()\n",
    "thread_one.join()\n",
    "thread_two.join()\n",
    "end=time.time()                          #threadler bittikten sonra program ana akışına devam edecek\n",
    "                                                          \n",
    "print(\"time for both process:\",float(end-start))"
   ]
  },
  {
   "cell_type": "markdown",
   "id": "211e6f33",
   "metadata": {},
   "source": [
    "thread olmadan geçen süre:  3.611    thread işlemi ile geçen süre:1.809    "
   ]
  },
  {
   "cell_type": "code",
   "execution_count": 5,
   "id": "269dda62",
   "metadata": {},
   "outputs": [
    {
     "name": "stdout",
     "output_type": "stream",
     "text": [
      "Güvenli counter: 200\n"
     ]
    }
   ],
   "source": [
    "counter = 0                    #thread sürecini kilitleyerek diğer threadlerin yanlış zamanda işlemi yapıp yanlış sonuç çıkmasını engelliyoruz\n",
    "lock = threading.Lock()                 # 1 Kilit oluştur\n",
    "                                        #counter += 1 ifadesi Python’da tek adımda (atomik) çalışmaz. Aslında:\n",
    "                                        # counter değerini oku\n",
    "                                        # +1 ekle\n",
    "                                        # Belleğe yaz\n",
    "def worker(n):\n",
    "    global counter\n",
    "    for _ in range(n):               \n",
    "        with lock:                      # 2️⃣ Kilidi al\n",
    "            counter+= 1                 # 3️⃣ Kritik bölge (critical section)\n",
    "                                        # 4️⃣ Kilit, blok bitince otomatik release edilir\n",
    "\n",
    "threads = [threading.Thread(target=worker, args=(50,)) for _ in range(4)]    #4 farklı thread var \n",
    "\n",
    "for t in threads:\n",
    "    t.start()\n",
    "\n",
    "for t in threads:\n",
    "    t.join()\n",
    "\n",
    "print(\"Güvenli counter:\", counter)"
   ]
  },
  {
   "cell_type": "markdown",
   "id": "b0fbd95c",
   "metadata": {},
   "source": [
    "MULTIPROCESSING:"
   ]
  },
  {
   "cell_type": "code",
   "execution_count": 6,
   "id": "ba3ac1ed",
   "metadata": {},
   "outputs": [
    {
     "name": "stdout",
     "output_type": "stream",
     "text": [
      "process is alive: True\n",
      "time spent 0.20665574073791504\n",
      "process is alive: False\n"
     ]
    }
   ],
   "source": [
    "import multiprocessing\n",
    "\n",
    "def take_cube(n):\n",
    "    for i in n:\n",
    "        print(i**3)\n",
    "        time.sleep(0.20)\n",
    "\n",
    "def take_square(n):\n",
    "    for i in n:\n",
    "        print(i**2)\n",
    "        time.sleep(0.20)\n",
    "nums=[1,2,3,4,5,6,7,8,9]\n",
    "\n",
    "if __name__==\"__main__\":\n",
    "    p1=multiprocessing.Process(target=take_cube,args=(nums,))    #Eğer if __name__ == \"__main__\": kullanılmazsa:\n",
    "    start=time.time()                                            #  Yeni süreç ana kodun tamamını tekrar çalıştırır.\n",
    "    p1.start()                                                   #Bu sonsuz döngü, fazla işlem açılması, hatta çökme ile sonuçlanabilir.\n",
    "    print(\"process is alive:\",p1.is_alive())\n",
    "    p1.join()\n",
    "    print(\"time spent\",time.time()-start)\n",
    "    print(\"process is alive:\",p1.is_alive())\n",
    "    \n"
   ]
  },
  {
   "cell_type": "code",
   "execution_count": 8,
   "id": "25de63e7",
   "metadata": {},
   "outputs": [
    {
     "name": "stdout",
     "output_type": "stream",
     "text": [
      "hello\n",
      "world\n"
     ]
    }
   ],
   "source": [
    "import asyncio\n",
    "# async fonksiyonda await kullanmamız gerekir \n",
    "\n",
    "async def say_after(delay, msg):\n",
    "    await asyncio.sleep(delay)  # non-blocking bekleme\n",
    "    print(msg)\n",
    "\n",
    "async def main():\n",
    "    # ardışık çalışma\n",
    "    await say_after(1, \"hello\")\n",
    "    await say_after(1, \"world\")\n",
    "\n",
    "await main()\n",
    "\n"
   ]
  },
  {
   "cell_type": "code",
   "execution_count": null,
   "id": "3a04f76c",
   "metadata": {},
   "outputs": [],
   "source": []
  },
  {
   "cell_type": "code",
   "execution_count": null,
   "id": "e1769499",
   "metadata": {},
   "outputs": [],
   "source": []
  },
  {
   "cell_type": "code",
   "execution_count": null,
   "id": "4b6537ea",
   "metadata": {},
   "outputs": [],
   "source": []
  }
 ],
 "metadata": {
  "kernelspec": {
   "display_name": "Python 3",
   "language": "python",
   "name": "python3"
  },
  "language_info": {
   "codemirror_mode": {
    "name": "ipython",
    "version": 3
   },
   "file_extension": ".py",
   "mimetype": "text/x-python",
   "name": "python",
   "nbconvert_exporter": "python",
   "pygments_lexer": "ipython3",
   "version": "3.11.9"
  }
 },
 "nbformat": 4,
 "nbformat_minor": 5
}
